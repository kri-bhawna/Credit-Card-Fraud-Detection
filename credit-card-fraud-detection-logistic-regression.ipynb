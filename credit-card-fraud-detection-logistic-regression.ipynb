{
 "cells": [
  {
   "cell_type": "code",
   "execution_count": 1,
   "id": "a60b4013",
   "metadata": {
    "_cell_guid": "b1076dfc-b9ad-4769-8c92-a6c4dae69d19",
    "_uuid": "8f2839f25d086af736a60e9eeb907d3b93b6e0e5",
    "execution": {
     "iopub.execute_input": "2023-01-07T06:21:34.519011Z",
     "iopub.status.busy": "2023-01-07T06:21:34.518450Z",
     "iopub.status.idle": "2023-01-07T06:21:35.875193Z",
     "shell.execute_reply": "2023-01-07T06:21:35.873771Z"
    },
    "papermill": {
     "duration": 1.368957,
     "end_time": "2023-01-07T06:21:35.878307",
     "exception": false,
     "start_time": "2023-01-07T06:21:34.509350",
     "status": "completed"
    },
    "tags": []
   },
   "outputs": [
    {
     "name": "stdout",
     "output_type": "stream",
     "text": [
      "/kaggle/input/creditcardfraud/creditcard.csv\n"
     ]
    }
   ],
   "source": [
    "# This Python 3 environment comes with many helpful analytics libraries installed\n",
    "# It is defined by the kaggle/python Docker image: https://github.com/kaggle/docker-python\n",
    "# For example, here's several helpful packages to load\n",
    "\n",
    "import numpy as np # linear algebra\n",
    "import pandas as pd # data processing, CSV file I/O (e.g. pd.read_csv)\n",
    "import matplotlib.pyplot as plt\n",
    "from sklearn.model_selection import train_test_split\n",
    "from sklearn.preprocessing import StandardScaler\n",
    "from sklearn.linear_model import LogisticRegression\n",
    "from sklearn.metrics import confusion_matrix, accuracy_score\n",
    "# Input data files are available in the read-only \"../input/\" directory\n",
    "# For example, running this (by clicking run or pressing Shift+Enter) will list all files under the input directory\n",
    "\n",
    "import os\n",
    "for dirname, _, filenames in os.walk('/kaggle/input'):\n",
    "    for filename in filenames:\n",
    "        print(os.path.join(dirname, filename))\n",
    "\n",
    "# You can write up to 20GB to the current directory (/kaggle/working/) that gets preserved as output when you create a version using \"Save & Run All\" \n",
    "# You can also write temporary files to /kaggle/temp/, but they won't be saved outside of the current session"
   ]
  },
  {
   "cell_type": "markdown",
   "id": "658b1edb",
   "metadata": {
    "papermill": {
     "duration": 0.004632,
     "end_time": "2023-01-07T06:21:35.888350",
     "exception": false,
     "start_time": "2023-01-07T06:21:35.883718",
     "status": "completed"
    },
    "tags": []
   },
   "source": [
    "*Reading the data from the csv using Pandas library*"
   ]
  },
  {
   "cell_type": "code",
   "execution_count": 2,
   "id": "ab67a3ed",
   "metadata": {
    "execution": {
     "iopub.execute_input": "2023-01-07T06:21:35.900449Z",
     "iopub.status.busy": "2023-01-07T06:21:35.899718Z",
     "iopub.status.idle": "2023-01-07T06:21:41.865591Z",
     "shell.execute_reply": "2023-01-07T06:21:41.864256Z"
    },
    "papermill": {
     "duration": 5.975868,
     "end_time": "2023-01-07T06:21:41.869055",
     "exception": false,
     "start_time": "2023-01-07T06:21:35.893187",
     "status": "completed"
    },
    "tags": []
   },
   "outputs": [
    {
     "name": "stdout",
     "output_type": "stream",
     "text": [
      "<class 'pandas.core.frame.DataFrame'>\n",
      "RangeIndex: 284807 entries, 0 to 284806\n",
      "Data columns (total 31 columns):\n",
      " #   Column  Non-Null Count   Dtype  \n",
      "---  ------  --------------   -----  \n",
      " 0   Time    284807 non-null  float64\n",
      " 1   V1      284807 non-null  float64\n",
      " 2   V2      284807 non-null  float64\n",
      " 3   V3      284807 non-null  float64\n",
      " 4   V4      284807 non-null  float64\n",
      " 5   V5      284807 non-null  float64\n",
      " 6   V6      284807 non-null  float64\n",
      " 7   V7      284807 non-null  float64\n",
      " 8   V8      284807 non-null  float64\n",
      " 9   V9      284807 non-null  float64\n",
      " 10  V10     284807 non-null  float64\n",
      " 11  V11     284807 non-null  float64\n",
      " 12  V12     284807 non-null  float64\n",
      " 13  V13     284807 non-null  float64\n",
      " 14  V14     284807 non-null  float64\n",
      " 15  V15     284807 non-null  float64\n",
      " 16  V16     284807 non-null  float64\n",
      " 17  V17     284807 non-null  float64\n",
      " 18  V18     284807 non-null  float64\n",
      " 19  V19     284807 non-null  float64\n",
      " 20  V20     284807 non-null  float64\n",
      " 21  V21     284807 non-null  float64\n",
      " 22  V22     284807 non-null  float64\n",
      " 23  V23     284807 non-null  float64\n",
      " 24  V24     284807 non-null  float64\n",
      " 25  V25     284807 non-null  float64\n",
      " 26  V26     284807 non-null  float64\n",
      " 27  V27     284807 non-null  float64\n",
      " 28  V28     284807 non-null  float64\n",
      " 29  Amount  284807 non-null  float64\n",
      " 30  Class   284807 non-null  int64  \n",
      "dtypes: float64(30), int64(1)\n",
      "memory usage: 67.4 MB\n"
     ]
    }
   ],
   "source": [
    "data=pd.read_csv(\"/kaggle/input/creditcardfraud/creditcard.csv\")\n",
    "data.info()"
   ]
  },
  {
   "cell_type": "markdown",
   "id": "e4271350",
   "metadata": {
    "papermill": {
     "duration": 0.005036,
     "end_time": "2023-01-07T06:21:41.879668",
     "exception": false,
     "start_time": "2023-01-07T06:21:41.874632",
     "status": "completed"
    },
    "tags": []
   },
   "source": [
    "*Understanding the biasedness in data*"
   ]
  },
  {
   "cell_type": "code",
   "execution_count": 3,
   "id": "3ab34c89",
   "metadata": {
    "execution": {
     "iopub.execute_input": "2023-01-07T06:21:41.892634Z",
     "iopub.status.busy": "2023-01-07T06:21:41.891913Z",
     "iopub.status.idle": "2023-01-07T06:21:42.161129Z",
     "shell.execute_reply": "2023-01-07T06:21:42.159790Z"
    },
    "papermill": {
     "duration": 0.279104,
     "end_time": "2023-01-07T06:21:42.163909",
     "exception": false,
     "start_time": "2023-01-07T06:21:41.884805",
     "status": "completed"
    },
    "tags": []
   },
   "outputs": [
    {
     "name": "stdout",
     "output_type": "stream",
     "text": [
      "0    284315\n",
      "1       492\n",
      "Name: Class, dtype: int64\n"
     ]
    },
    {
     "data": {
      "text/plain": [
       "<AxesSubplot:title={'center':'value counts'}, xlabel='class', ylabel='frequency'>"
      ]
     },
     "execution_count": 3,
     "metadata": {},
     "output_type": "execute_result"
    },
    {
     "data": {
      "image/png": "[encoded data removed]",
      "text/plain": [
       "<Figure size 432x288 with 1 Axes>"
      ]
     },
     "metadata": {
      "needs_background": "light"
     },
     "output_type": "display_data"
    }
   ],
   "source": [
    "class_count=pd.value_counts(data['Class'], sort=True)\n",
    "print(class_count)\n",
    "class_count.plot(kind='bar', rot='0',title='value counts', xlabel='class', ylabel='frequency', color=['red','lightblue'] )"
   ]
  },
  {
   "cell_type": "markdown",
   "id": "c620203a",
   "metadata": {
    "papermill": {
     "duration": 0.005174,
     "end_time": "2023-01-07T06:21:42.174873",
     "exception": false,
     "start_time": "2023-01-07T06:21:42.169699",
     "status": "completed"
    },
    "tags": []
   },
   "source": [
    "*Understanding the amount feature*"
   ]
  },
  {
   "cell_type": "code",
   "execution_count": 4,
   "id": "b64c9d06",
   "metadata": {
    "execution": {
     "iopub.execute_input": "2023-01-07T06:21:42.188327Z",
     "iopub.status.busy": "2023-01-07T06:21:42.187206Z",
     "iopub.status.idle": "2023-01-07T06:21:43.224131Z",
     "shell.execute_reply": "2023-01-07T06:21:43.222754Z"
    },
    "papermill": {
     "duration": 1.046513,
     "end_time": "2023-01-07T06:21:43.226814",
     "exception": false,
     "start_time": "2023-01-07T06:21:42.180301",
     "status": "completed"
    },
    "tags": []
   },
   "outputs": [
    {
     "data": {
      "text/plain": [
       "<AxesSubplot:title={'center':'Genuine transactions amount'}, ylabel='Amount'>"
      ]
     },
     "execution_count": 4,
     "metadata": {},
     "output_type": "execute_result"
    },
    {
     "data": {
      "image/png": "[encoded data removed]",
      "text/plain": [
       "<Figure size 432x288 with 1 Axes>"
      ]
     },
     "metadata": {
      "needs_background": "light"
     },
     "output_type": "display_data"
    },
    {
     "data": {
      "image/png": "[encoded data removed]",
      "text/plain": [
       "<Figure size 432x288 with 1 Axes>"
      ]
     },
     "metadata": {
      "needs_background": "light"
     },
     "output_type": "display_data"
    }
   ],
   "source": [
    "fraud=data[data['Class']==1]\n",
    "nfraud=data[data['Class']==0]\n",
    "fraud.plot(y='Amount', kind='line', title='Fraud data amount', ylabel='Amount', color='red')\n",
    "nfraud.plot(y='Amount', kind='line', title='Genuine transactions amount', ylabel='Amount', color='lightblue')"
   ]
  },
  {
   "cell_type": "markdown",
   "id": "65f48f0b",
   "metadata": {
    "papermill": {
     "duration": 0.006351,
     "end_time": "2023-01-07T06:21:43.240130",
     "exception": false,
     "start_time": "2023-01-07T06:21:43.233779",
     "status": "completed"
    },
    "tags": []
   },
   "source": [
    "*Understanding the data and plotting various descriptions of the 'Amount' feature*"
   ]
  },
  {
   "cell_type": "code",
   "execution_count": 5,
   "id": "3e1423d7",
   "metadata": {
    "execution": {
     "iopub.execute_input": "2023-01-07T06:21:43.257468Z",
     "iopub.status.busy": "2023-01-07T06:21:43.257051Z",
     "iopub.status.idle": "2023-01-07T06:21:43.721257Z",
     "shell.execute_reply": "2023-01-07T06:21:43.720331Z"
    },
    "papermill": {
     "duration": 0.476655,
     "end_time": "2023-01-07T06:21:43.723438",
     "exception": false,
     "start_time": "2023-01-07T06:21:43.246783",
     "status": "completed"
    },
    "tags": []
   },
   "outputs": [
    {
     "name": "stdout",
     "output_type": "stream",
     "text": [
      "Fraud transactions decription\n",
      " count     492.000000\n",
      "mean      122.211321\n",
      "std       256.683288\n",
      "min         0.000000\n",
      "25%         1.000000\n",
      "50%         9.250000\n",
      "75%       105.890000\n",
      "max      2125.870000\n",
      "Name: Amount, dtype: float64\n",
      "Genuine transactions decription\n",
      " count    284315.000000\n",
      "mean         88.291022\n",
      "std         250.105092\n",
      "min           0.000000\n",
      "25%           5.650000\n",
      "50%          22.000000\n",
      "75%          77.050000\n",
      "max       25691.160000\n",
      "Name: Amount, dtype: float64\n"
     ]
    },
    {
     "data": {
      "text/plain": [
       "<AxesSubplot:title={'center':'Genuine transactions decription'}, ylabel='Amount'>"
      ]
     },
     "execution_count": 5,
     "metadata": {},
     "output_type": "execute_result"
    },
    {
     "data": {
      "image/png": "[encoded data removed]",
      "text/plain": [
       "<Figure size 1008x1008 with 2 Axes>"
      ]
     },
     "metadata": {
      "needs_background": "light"
     },
     "output_type": "display_data"
    }
   ],
   "source": [
    "f=fraud['Amount'].describe()\n",
    "nf=nfraud['Amount'].describe()\n",
    "print('Fraud transactions decription\\n',f)\n",
    "print('Genuine transactions decription\\n',nf)\n",
    "figure, axes=plt.subplots(2,1, figsize=(14,14))\n",
    "f.plot(kind='bar', rot='0' , ax=axes[0], title='Fraud transactions decription',ylabel='Amount',color='red')\n",
    "nf.plot(kind='bar', rot='0',ax=axes[1], title='Genuine transactions decription', ylabel='Amount', color='lightblue')\n"
   ]
  },
  {
   "cell_type": "markdown",
   "id": "d990d2ff",
   "metadata": {
    "papermill": {
     "duration": 0.006579,
     "end_time": "2023-01-07T06:21:43.737467",
     "exception": false,
     "start_time": "2023-01-07T06:21:43.730888",
     "status": "completed"
    },
    "tags": []
   },
   "source": [
    "*Under_sampling*\n"
   ]
  },
  {
   "cell_type": "code",
   "execution_count": 6,
   "id": "56c6fb95",
   "metadata": {
    "execution": {
     "iopub.execute_input": "2023-01-07T06:21:43.754534Z",
     "iopub.status.busy": "2023-01-07T06:21:43.752898Z",
     "iopub.status.idle": "2023-01-07T06:21:43.788146Z",
     "shell.execute_reply": "2023-01-07T06:21:43.786644Z"
    },
    "papermill": {
     "duration": 0.047409,
     "end_time": "2023-01-07T06:21:43.791814",
     "exception": false,
     "start_time": "2023-01-07T06:21:43.744405",
     "status": "completed"
    },
    "tags": []
   },
   "outputs": [
    {
     "name": "stdout",
     "output_type": "stream",
     "text": [
      "(492, 31)\n",
      "            Time        V1        V2        V3        V4        V5        V6  \\\n",
      "154055  100862.0  1.920060 -0.517268  0.132062  0.350562 -0.728157  0.339718   \n",
      "123014   76776.0 -2.157666  0.388103  2.066349  1.560692 -1.331493  0.865653   \n",
      "221956  142761.0 -0.960022 -0.222275 -0.361437 -2.041318 -0.461875 -1.337656   \n",
      "134590   80877.0 -2.186082  0.362565 -0.762341 -0.853522 -1.287084 -0.672008   \n",
      "10938    18769.0 -2.146416 -1.596222  2.560461 -1.332597  1.306061 -1.099903   \n",
      "...          ...       ...       ...       ...       ...       ...       ...   \n",
      "279863  169142.0 -1.927883  1.125653 -4.518331  1.749293 -1.566487 -2.010494   \n",
      "280143  169347.0  1.378559  1.289381 -5.004247  1.411850  0.442581 -1.326536   \n",
      "280149  169351.0 -0.676143  1.126366 -2.213700  0.468308 -1.120541 -0.003346   \n",
      "281144  169966.0 -3.113832  0.585864 -5.399730  1.817092 -0.840618 -2.943548   \n",
      "281674  170348.0  1.991976  0.158476 -2.583441  0.408670  1.151147 -0.096695   \n",
      "\n",
      "              V7        V8        V9  ...       V21       V22       V23  \\\n",
      "154055 -1.162941  0.224495  2.439071  ... -0.062641  0.126146  0.362982   \n",
      "123014 -1.517372 -1.909155  0.180766  ... -1.274548  0.589538 -0.026538   \n",
      "221956  0.715836 -0.039203 -1.297330  ...  0.583639  1.651449  0.380533   \n",
      "134590  1.253342  0.392275  0.063496  ... -0.033406  0.116299  0.288937   \n",
      "10938  -1.272066  0.476996  2.455747  ...  0.119163  0.097449  0.078743   \n",
      "...          ...       ...       ...  ...       ...       ...       ...   \n",
      "279863 -0.882850  0.697211 -2.064945  ...  0.778584 -0.319189  0.639419   \n",
      "280143 -1.413170  0.248525 -1.127396  ...  0.370612  0.028234 -0.145640   \n",
      "280149 -2.234739  1.210158 -0.652250  ...  0.751826  0.834108  0.190944   \n",
      "281144 -2.208002  1.058733 -1.632333  ...  0.583276 -0.269209 -0.456108   \n",
      "281674  0.223050 -0.068384  0.577829  ... -0.164350 -0.295135 -0.072173   \n",
      "\n",
      "             V24       V25       V26       V27       V28  Amount  Class  \n",
      "154055  0.661681 -0.664178  0.392951 -0.047644 -0.047039   15.95      0  \n",
      "123014  0.423033  0.290105 -0.206293  0.169809 -0.192249  103.08      0  \n",
      "221956  0.091150 -0.251440 -0.139103  0.035062  0.044390  135.88      0  \n",
      "134590  0.117134 -0.343681  0.846598 -0.114685 -0.066627  233.18      0  \n",
      "10938  -0.066076  0.438715 -0.797729  0.015860  0.093013   21.05      0  \n",
      "...          ...       ...       ...       ...       ...     ...    ...  \n",
      "279863 -0.294885  0.537503  0.788395  0.292680  0.147968  390.00      1  \n",
      "280143 -0.081049  0.521875  0.739467  0.389152  0.186637    0.76      1  \n",
      "280149  0.032070 -0.739695  0.471111  0.385107  0.194361   77.89      1  \n",
      "281144 -0.183659 -0.328168  0.606116  0.884876 -0.253700  245.00      1  \n",
      "281674 -0.450261  0.313267 -0.289617  0.002988 -0.015309   42.53      1  \n",
      "\n",
      "[984 rows x 31 columns]\n"
     ]
    }
   ],
   "source": [
    "#applying undersampling\n",
    "nfraud_us=nfraud.sample(class_count[1])\n",
    "print(nfraud_us.shape)\n",
    "#concatenating the under sampled fraud data with the non-fraud entries\n",
    "dt=pd.concat([nfraud_us, fraud], axis =0)\n",
    "print(dt)"
   ]
  },
  {
   "cell_type": "markdown",
   "id": "da70c91b",
   "metadata": {
    "papermill": {
     "duration": 0.006877,
     "end_time": "2023-01-07T06:21:43.806713",
     "exception": false,
     "start_time": "2023-01-07T06:21:43.799836",
     "status": "completed"
    },
    "tags": []
   },
   "source": [
    "*Dividing the features and y values*\n",
    "*Feature scaling*\n"
   ]
  },
  {
   "cell_type": "code",
   "execution_count": 7,
   "id": "53469cb1",
   "metadata": {
    "execution": {
     "iopub.execute_input": "2023-01-07T06:21:43.824241Z",
     "iopub.status.busy": "2023-01-07T06:21:43.822713Z",
     "iopub.status.idle": "2023-01-07T06:21:43.838822Z",
     "shell.execute_reply": "2023-01-07T06:21:43.837056Z"
    },
    "papermill": {
     "duration": 0.029138,
     "end_time": "2023-01-07T06:21:43.842877",
     "exception": false,
     "start_time": "2023-01-07T06:21:43.813739",
     "status": "completed"
    },
    "tags": []
   },
   "outputs": [
    {
     "name": "stdout",
     "output_type": "stream",
     "text": [
      "[[ 2.25891540e-01  7.83856271e-01 -6.18057532e-01 ... -1.20776429e-01\n",
      "  -2.08840425e-01 -3.25718897e-01]\n",
      " [-2.68510640e-01  4.67206977e-02 -3.75072365e-01 ...  9.39566142e-02\n",
      "  -5.42169810e-01 -1.97006397e-02]\n",
      " [ 1.08593293e+00  2.63220345e-01 -5.38886898e-01 ... -3.91053492e-02\n",
      "   1.03553152e-03  9.54996223e-02]\n",
      " ...\n",
      " [ 1.63173356e+00  3.14537482e-01 -1.76935860e-01 ...  3.06562613e-01\n",
      "   3.45294306e-01 -1.08173036e-01]\n",
      " [ 1.64435738e+00 -1.26126522e-01 -3.21996840e-01 ...  8.00080331e-01\n",
      "  -6.83231523e-01  4.78751226e-01]\n",
      " [ 1.65219852e+00  7.96856568e-01 -4.36700163e-01 ... -7.07782537e-02\n",
      "  -1.36003836e-01 -2.32364538e-01]]\n"
     ]
    }
   ],
   "source": [
    "#dividing the features and y values\n",
    "cols=dt.columns.tolist()\n",
    "c=[i for i in cols if i!='Class']\n",
    "x_=dt[c]\n",
    "y=dt['Class']\n",
    "scaler=StandardScaler()\n",
    "x=scaler.fit_transform(x_)\n",
    "print(x)"
   ]
  },
  {
   "cell_type": "markdown",
   "id": "9b3e058f",
   "metadata": {
    "papermill": {
     "duration": 0.00682,
     "end_time": "2023-01-07T06:21:43.857546",
     "exception": false,
     "start_time": "2023-01-07T06:21:43.850726",
     "status": "completed"
    },
    "tags": []
   },
   "source": [
    "*Splitting the data into test and train sets*"
   ]
  },
  {
   "cell_type": "code",
   "execution_count": 8,
   "id": "df2dd4e8",
   "metadata": {
    "execution": {
     "iopub.execute_input": "2023-01-07T06:21:43.873989Z",
     "iopub.status.busy": "2023-01-07T06:21:43.873494Z",
     "iopub.status.idle": "2023-01-07T06:21:43.882006Z",
     "shell.execute_reply": "2023-01-07T06:21:43.880680Z"
    },
    "papermill": {
     "duration": 0.019955,
     "end_time": "2023-01-07T06:21:43.884671",
     "exception": false,
     "start_time": "2023-01-07T06:21:43.864716",
     "status": "completed"
    },
    "tags": []
   },
   "outputs": [],
   "source": [
    "#test-train data split\n",
    "x_train, x_test, y_train, y_test=train_test_split(x,y, test_size=0.2, random_state=50 )"
   ]
  },
  {
   "cell_type": "markdown",
   "id": "5c912ffb",
   "metadata": {
    "papermill": {
     "duration": 0.00702,
     "end_time": "2023-01-07T06:21:43.899142",
     "exception": false,
     "start_time": "2023-01-07T06:21:43.892122",
     "status": "completed"
    },
    "tags": []
   },
   "source": [
    "*Apply Logistic Regression*\n"
   ]
  },
  {
   "cell_type": "code",
   "execution_count": 9,
   "id": "4719b9d1",
   "metadata": {
    "execution": {
     "iopub.execute_input": "2023-01-07T06:21:43.916874Z",
     "iopub.status.busy": "2023-01-07T06:21:43.915846Z",
     "iopub.status.idle": "2023-01-07T06:21:43.968518Z",
     "shell.execute_reply": "2023-01-07T06:21:43.966858Z"
    },
    "papermill": {
     "duration": 0.06663,
     "end_time": "2023-01-07T06:21:43.973240",
     "exception": false,
     "start_time": "2023-01-07T06:21:43.906610",
     "status": "completed"
    },
    "tags": []
   },
   "outputs": [
    {
     "data": {
      "text/plain": [
       "LogisticRegression(random_state=0)"
      ]
     },
     "execution_count": 9,
     "metadata": {},
     "output_type": "execute_result"
    }
   ],
   "source": [
    "classify=LogisticRegression(random_state=0)\n",
    "classify.fit(x_train,y_train)"
   ]
  },
  {
   "cell_type": "markdown",
   "id": "5e045590",
   "metadata": {
    "papermill": {
     "duration": 0.01867,
     "end_time": "2023-01-07T06:21:44.011694",
     "exception": false,
     "start_time": "2023-01-07T06:21:43.993024",
     "status": "completed"
    },
    "tags": []
   },
   "source": [
    "*Evaluate models*"
   ]
  },
  {
   "cell_type": "code",
   "execution_count": 10,
   "id": "7d1f19cb",
   "metadata": {
    "execution": {
     "iopub.execute_input": "2023-01-07T06:21:44.051961Z",
     "iopub.status.busy": "2023-01-07T06:21:44.051147Z",
     "iopub.status.idle": "2023-01-07T06:21:44.060531Z",
     "shell.execute_reply": "2023-01-07T06:21:44.058945Z"
    },
    "papermill": {
     "duration": 0.035592,
     "end_time": "2023-01-07T06:21:44.066036",
     "exception": false,
     "start_time": "2023-01-07T06:21:44.030444",
     "status": "completed"
    },
    "tags": []
   },
   "outputs": [],
   "source": [
    "y_pred=classify.predict(x_test)"
   ]
  },
  {
   "cell_type": "code",
   "execution_count": 11,
   "id": "477023ac",
   "metadata": {
    "execution": {
     "iopub.execute_input": "2023-01-07T06:21:44.090846Z",
     "iopub.status.busy": "2023-01-07T06:21:44.090470Z",
     "iopub.status.idle": "2023-01-07T06:21:44.101339Z",
     "shell.execute_reply": "2023-01-07T06:21:44.099570Z"
    },
    "papermill": {
     "duration": 0.022254,
     "end_time": "2023-01-07T06:21:44.103904",
     "exception": false,
     "start_time": "2023-01-07T06:21:44.081650",
     "status": "completed"
    },
    "tags": []
   },
   "outputs": [
    {
     "name": "stdout",
     "output_type": "stream",
     "text": [
      "[[87  2]\n",
      " [12 96]]\n",
      "The accuracy of the model is 92.89340101522842 %\n"
     ]
    }
   ],
   "source": [
    "con_mat=confusion_matrix(y_test,y_pred)\n",
    "print(con_mat)\n",
    "accuracy=accuracy_score(y_test,y_pred)\n",
    "print('The accuracy of the model is',accuracy*100, '%')"
   ]
  }
 ],
 "metadata": {
  "kernelspec": {
   "display_name": "Python 3",
   "language": "python",
   "name": "python3"
  },
  "language_info": {
   "codemirror_mode": {
    "name": "ipython",
    "version": 3
   },
   "file_extension": ".py",
   "mimetype": "text/x-python",
   "name": "python",
   "nbconvert_exporter": "python",
   "pygments_lexer": "ipython3",
   "version": "3.7.12"
  },
  "papermill": {
   "default_parameters": {},
   "duration": 20.223814,
   "end_time": "2023-01-07T06:21:45.236101",
   "environment_variables": {},
   "exception": null,
   "input_path": "__notebook__.ipynb",
   "output_path": "__notebook__.ipynb",
   "parameters": {},
   "start_time": "2023-01-07T06:21:25.012287",
   "version": "2.3.4"
  }
 },
 "nbformat": 4,
 "nbformat_minor": 5
}
